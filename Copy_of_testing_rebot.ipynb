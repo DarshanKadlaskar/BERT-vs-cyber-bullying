{
  "cells": [
    {
      "cell_type": "markdown",
      "metadata": {
        "id": "view-in-github",
        "colab_type": "text"
      },
      "source": [
        "<a href=\"https://colab.research.google.com/github/DarshanKadlaskar/BERT-vs-cyber-bullying/blob/main/Copy_of_testing_rebot.ipynb\" target=\"_parent\"><img src=\"https://colab.research.google.com/assets/colab-badge.svg\" alt=\"Open In Colab\"/></a>"
      ]
    },
    {
      "cell_type": "markdown",
      "metadata": {
        "id": "GdOBya4UupyN"
      },
      "source": []
    },
    {
      "cell_type": "code",
      "execution_count": null,
      "metadata": {
        "colab": {
          "base_uri": "https://localhost:8080/"
        },
        "id": "8vO2Em_fuqk7",
        "outputId": "aed91d4a-9e6b-47f0-c57c-974d4f656e29"
      },
      "outputs": [
        {
          "output_type": "stream",
          "name": "stderr",
          "text": [
            "Device set to use cpu\n"
          ]
        },
        {
          "output_type": "stream",
          "name": "stdout",
          "text": [
            "Enter a message to check for cyberbullying (or type 'exit' to quit):\n",
            "You: That was awesome\n",
            "✅ No cyberbullying detected.\n",
            "You: That was awful\n",
            "✅ No cyberbullying detected.\n",
            "You: That was awesome as hell\n",
            "✅ No cyberbullying detected.\n",
            "You: That was as awful as hell\n",
            "⚠️ Cyberbullying detected!\n",
            "⚠️ Warning 1/3: Please use respectful language.\n",
            "You: exit\n",
            "Goodbye!\n"
          ]
        }
      ],
      "source": [
        "from transformers import pipeline\n",
        "import re\n",
        "\n",
        "# Initialize the AI-based toxicity detection model\n",
        "model = pipeline('text-classification', model='unitary/toxic-bert')\n",
        "\n",
        "# Expanded and more strict list of profanity and offensive phrases\n",
        "#PROFANITY_LIST = ['fuck', 'shit', 'bitch', 'asshole', 'bastard', 'dick', 'damn', 'slut', 'whore', 'moron', 'stupid', 'idiot', 'suck', 'jerk', 'loser', 'dumb', 'hell', 'crap', 'bloody', 'prick', 'freak', 'scumbag', 'twit', 'scum', 'pig', 'fool', 'go to hell', 'shame on you', 'screw you', 'blow job', 'son of a bitch', 'douchebag', 'twat', 'hoe', 'idiotic', 'pathetic', 'trash', 'you suck', 'die', 'kill yourself', 'piss off', 'coward', 'worthless', 'imbecile', 'cretin', 'annoying', 'unwanted', 'disgusting', 'abnormal', 'deviant', 'dirty', 'nasty', 'perverted', 'corrupt', 'heinous', 'vile', 'evil', 'maniac', 'psycho', 'lunatic', 'weirdo', 'gross', 'toxic', 'despicable']\n",
        "\n",
        "# Toxicity labels (from unitary/toxic-bert model)\n",
        "toxic_labels = {\"toxic\", \"severe_toxic\", \"obscene\", \"threat\", \"insult\", \"identity_hate\"}\n",
        "\n",
        "# Function to check for profanity\n",
        "#def contains_profanity(text):\n",
        "    #pattern = re.compile(r'\\b(?:' + '|'.join(re.escape(word) for word in PROFANITY_LIST) + r')\\b', re.IGNORECASE)\n",
        "    #return bool(pattern.search(text))\n",
        "\n",
        "# Function to detect cyberbullying using the AI model and profanity check\n",
        "def ai_detect_cyberbullying(text):\n",
        "    result = model(text)\n",
        "    # Check for toxicity with a strict threshold\n",
        "    if any(res['label'] in toxic_labels and res['score'] > 0.5 for res in result):# or contains_profanity(text):\n",
        "        return \"⚠️ Cyberbullying detected!\", True\n",
        "    else:\n",
        "        return \"✅ No cyberbullying detected.\", False\n",
        "\n",
        "# Function to interact with the user and manage warnings\n",
        "def detect_cyberbullying():\n",
        "    print(\"Enter a message to check for cyberbullying (or type 'exit' to quit):\")\n",
        "    warning_count = 0  # Track the number of warnings\n",
        "\n",
        "    while True:\n",
        "        user_input = input(\"You: \")\n",
        "\n",
        "        if user_input.lower() == 'exit':\n",
        "            print(\"Goodbye!\")\n",
        "            break\n",
        "\n",
        "        message, detected = ai_detect_cyberbullying(user_input)\n",
        "        print(message)\n",
        "\n",
        "        if detected:\n",
        "            warning_count += 1\n",
        "            print(f\"⚠️ Warning {warning_count}/3: Please use respectful language.\")\n",
        "\n",
        "        if warning_count >= 3:\n",
        "            print(\"❌ You are suspended for 7 days due to repeated misbehavior.\")\n",
        "            break\n",
        "\n",
        "# Run the system\n",
        "detect_cyberbullying()\n"
      ]
    },
    {
      "cell_type": "code",
      "source": [],
      "metadata": {
        "id": "K2P5Nc5Bs_F0"
      },
      "execution_count": null,
      "outputs": []
    }
  ],
  "metadata": {
    "colab": {
      "provenance": [],
      "include_colab_link": true
    },
    "kernelspec": {
      "display_name": "Python 3",
      "name": "python3"
    },
    "language_info": {
      "name": "python"
    }
  },
  "nbformat": 4,
  "nbformat_minor": 0
}